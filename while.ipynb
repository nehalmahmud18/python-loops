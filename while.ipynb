{
 "cells": [
  {
   "cell_type": "code",
   "execution_count": 2,
   "metadata": {},
   "outputs": [
    {
     "name": "stdout",
     "output_type": "stream",
     "text": [
      "1 study mart\n",
      "2 study mart\n",
      "3 study mart\n",
      "4 study mart\n",
      "5 study mart\n",
      "6 study mart\n",
      "7 study mart\n",
      "8 study mart\n",
      "9 study mart\n",
      "10 study mart\n",
      "11 study mart\n"
     ]
    }
   ],
   "source": [
    "i = 0\n",
    "while (i<=10):\n",
    "    i+=1\n",
    "    print (i, 'study mart')"
   ]
  },
  {
   "cell_type": "code",
   "execution_count": 1,
   "metadata": {},
   "outputs": [
    {
     "name": "stdout",
     "output_type": "stream",
     "text": [
      "3 study mart\n",
      "6 study mart\n",
      "9 study mart\n",
      "12 study mart\n"
     ]
    }
   ],
   "source": [
    "i = 0\n",
    "while (i<=10):\n",
    "    i+=3\n",
    "    print (i, 'study mart')"
   ]
  },
  {
   "cell_type": "code",
   "execution_count": 2,
   "metadata": {},
   "outputs": [
    {
     "name": "stdout",
     "output_type": "stream",
     "text": [
      "p\n",
      "y\n",
      "t\n",
      "h\n",
      "o\n",
      "n\n"
     ]
    }
   ],
   "source": [
    "data = 'python'\n",
    "index = 0\n",
    "while index <len(data):\n",
    "    print(data[index])\n",
    "    index = index+1\n"
   ]
  },
  {
   "cell_type": "code",
   "execution_count": 3,
   "metadata": {},
   "outputs": [
    {
     "name": "stdout",
     "output_type": "stream",
     "text": [
      "i\n",
      "love\n",
      "data\n",
      "science\n"
     ]
    }
   ],
   "source": [
    "data = 'i love data science'\n",
    "data = data.split()\n",
    "index = 0\n",
    "while index <len(data):\n",
    "    print(data[index])\n",
    "    index = index+1"
   ]
  },
  {
   "cell_type": "code",
   "execution_count": 4,
   "metadata": {},
   "outputs": [
    {
     "data": {
      "text/plain": [
       "'science'"
      ]
     },
     "execution_count": 4,
     "metadata": {},
     "output_type": "execute_result"
    }
   ],
   "source": [
    "data[-1]"
   ]
  },
  {
   "cell_type": "code",
   "execution_count": 5,
   "metadata": {},
   "outputs": [
    {
     "name": "stdout",
     "output_type": "stream",
     "text": [
      "2\n",
      "6\n",
      "11\n",
      "21\n",
      "35\n",
      "85\n"
     ]
    }
   ],
   "source": [
    "n = [2,4,5,10,14,50]\n",
    "index = 0\n",
    "total = 0\n",
    "\n",
    "while (index<len(n)):\n",
    "    total = total + n[index]\n",
    "    print(total)\n",
    "    index += 1"
   ]
  }
 ],
 "metadata": {
  "kernelspec": {
   "display_name": "Python 3",
   "language": "python",
   "name": "python3"
  },
  "language_info": {
   "codemirror_mode": {
    "name": "ipython",
    "version": 3
   },
   "file_extension": ".py",
   "mimetype": "text/x-python",
   "name": "python",
   "nbconvert_exporter": "python",
   "pygments_lexer": "ipython3",
   "version": "3.12.0"
  }
 },
 "nbformat": 4,
 "nbformat_minor": 2
}
