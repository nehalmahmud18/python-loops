{
 "cells": [
  {
   "cell_type": "code",
   "execution_count": 1,
   "metadata": {},
   "outputs": [
    {
     "ename": "AttributeError",
     "evalue": "module 'turtle' has no attribute 'screen'",
     "output_type": "error",
     "traceback": [
      "\u001b[31m---------------------------------------------------------------------------\u001b[39m",
      "\u001b[31mAttributeError\u001b[39m                            Traceback (most recent call last)",
      "\u001b[36mCell\u001b[39m\u001b[36m \u001b[39m\u001b[32mIn[1]\u001b[39m\u001b[32m, line 2\u001b[39m\n\u001b[32m      1\u001b[39m \u001b[38;5;28;01mimport\u001b[39;00m\u001b[38;5;250m \u001b[39m\u001b[34;01mturtle\u001b[39;00m\n\u001b[32m----> \u001b[39m\u001b[32m2\u001b[39m wn = \u001b[43mturtle\u001b[49m\u001b[43m.\u001b[49m\u001b[43mscreen\u001b[49m()\n\u001b[32m      3\u001b[39m alex = turtle.turtle()\n\u001b[32m      4\u001b[39m alex.forward(\u001b[32m150\u001b[39m)\n",
      "\u001b[31mAttributeError\u001b[39m: module 'turtle' has no attribute 'screen'"
     ]
    }
   ],
   "source": [
    "import turtle\n",
    "wn = turtle.screen()\n",
    "alex = turtle.turtle()\n",
    "alex.forward(150)\n",
    "alex.left(90)\n",
    "alex.forward(75)"
   ]
  }
 ],
 "metadata": {
  "kernelspec": {
   "display_name": "Python 3",
   "language": "python",
   "name": "python3"
  },
  "language_info": {
   "codemirror_mode": {
    "name": "ipython",
    "version": 3
   },
   "file_extension": ".py",
   "mimetype": "text/x-python",
   "name": "python",
   "nbconvert_exporter": "python",
   "pygments_lexer": "ipython3",
   "version": "3.12.0"
  }
 },
 "nbformat": 4,
 "nbformat_minor": 2
}
