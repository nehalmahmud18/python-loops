{
 "cells": [
  {
   "cell_type": "code",
   "execution_count": 2,
   "metadata": {},
   "outputs": [
    {
     "name": "stdout",
     "output_type": "stream",
     "text": [
      "2 2\n",
      "6 4\n",
      "11 5\n",
      "21 10\n",
      "35 14\n",
      "85 50\n"
     ]
    }
   ],
   "source": [
    "n = [2,4,5,10,14,50]\n",
    "total = 0\n",
    "for x in n :\n",
    "    total = total+ x\n",
    "    print(total, x)"
   ]
  },
  {
   "cell_type": "code",
   "execution_count": 3,
   "metadata": {},
   "outputs": [
    {
     "name": "stdout",
     "output_type": "stream",
     "text": [
      "i love data science\n",
      "i love data science\n",
      "i love data science\n",
      "i love data science\n",
      "i love data science\n",
      "i love data science\n",
      "i love data science\n",
      "i love data science\n",
      "i love data science\n",
      "i love data science\n"
     ]
    }
   ],
   "source": [
    "for i in range(10):\n",
    "    print('i love data science')"
   ]
  },
  {
   "cell_type": "code",
   "execution_count": 5,
   "metadata": {},
   "outputs": [
    {
     "name": "stdout",
     "output_type": "stream",
     "text": [
      "i love data science -2\n",
      "i love data science -1\n",
      "i love data science 0\n",
      "i love data science 1\n",
      "i love data science 2\n",
      "i love data science 3\n",
      "i love data science 4\n",
      "i love data science 5\n",
      "i love data science 6\n",
      "i love data science 7\n",
      "i love data science 8\n",
      "i love data science 9\n"
     ]
    }
   ],
   "source": [
    "for i in range(-2, 10):\n",
    "    print('i love data science', i )"
   ]
  },
  {
   "cell_type": "code",
   "execution_count": 6,
   "metadata": {},
   "outputs": [
    {
     "name": "stdout",
     "output_type": "stream",
     "text": [
      " i love data 5\n",
      " i love data 7\n",
      " i love data 9\n"
     ]
    }
   ],
   "source": [
    "for i in range(5,10,2):\n",
    "    print(' i love data', i)#I = i+2\n"
   ]
  },
  {
   "cell_type": "code",
   "execution_count": 7,
   "metadata": {},
   "outputs": [
    {
     "name": "stdout",
     "output_type": "stream",
     "text": [
      "i love data 100\n",
      "i love data 90\n",
      "i love data 80\n",
      "i love data 70\n",
      "i love data 60\n",
      "i love data 50\n"
     ]
    }
   ],
   "source": [
    "for i in range(100, 40, -10):\n",
    "    print('i love data',i )"
   ]
  },
  {
   "cell_type": "code",
   "execution_count": 9,
   "metadata": {},
   "outputs": [
    {
     "name": "stdout",
     "output_type": "stream",
     "text": [
      "i love data 99\n",
      "i love data 97\n",
      "i love data 95\n",
      "i love data 93\n",
      "i love data 91\n",
      "i love data 89\n",
      "i love data 87\n",
      "i love data 85\n",
      "i love data 83\n",
      "i love data 81\n",
      "i love data 79\n",
      "i love data 77\n",
      "i love data 75\n",
      "i love data 73\n",
      "i love data 71\n",
      "i love data 69\n",
      "i love data 67\n",
      "i love data 65\n",
      "i love data 63\n",
      "i love data 61\n",
      "i love data 59\n",
      "i love data 57\n",
      "i love data 55\n",
      "i love data 53\n",
      "i love data 51\n",
      "i love data 49\n",
      "i love data 47\n",
      "i love data 45\n",
      "i love data 43\n",
      "i love data 41\n",
      "i love data 39\n",
      "i love data 37\n",
      "i love data 35\n",
      "i love data 33\n",
      "i love data 31\n",
      "i love data 29\n",
      "i love data 27\n",
      "i love data 25\n",
      "i love data 23\n",
      "i love data 21\n",
      "i love data 19\n",
      "i love data 17\n",
      "i love data 15\n",
      "i love data 13\n",
      "i love data 11\n",
      "i love data 9\n",
      "i love data 7\n",
      "i love data 5\n",
      "i love data 3\n",
      "i love data 1\n"
     ]
    }
   ],
   "source": [
    "#for odd number\n",
    "for i in range (99, -1, -2):\n",
    "    print('i love data', i)"
   ]
  }
 ],
 "metadata": {
  "kernelspec": {
   "display_name": "Python 3",
   "language": "python",
   "name": "python3"
  },
  "language_info": {
   "codemirror_mode": {
    "name": "ipython",
    "version": 3
   },
   "file_extension": ".py",
   "mimetype": "text/x-python",
   "name": "python",
   "nbconvert_exporter": "python",
   "pygments_lexer": "ipython3",
   "version": "3.12.0"
  }
 },
 "nbformat": 4,
 "nbformat_minor": 2
}
