{
 "cells": [
  {
   "cell_type": "code",
   "execution_count": 4,
   "id": "b9fcf500-393c-4ff9-b2af-4786a8f12e70",
   "metadata": {},
   "outputs": [
    {
     "name": "stdin",
     "output_type": "stream",
     "text": [
      "enter any number:  22\n"
     ]
    },
    {
     "name": "stdout",
     "output_type": "stream",
     "text": [
      "divisible by only 2\n"
     ]
    }
   ],
   "source": [
    "num = float(input('enter any number: '))\n",
    "if num%2 == 0:\n",
    "    if num%5 == 0:\n",
    "        print(num, 'divisible by 5 and 2')\n",
    "    else:\n",
    "        print('divisible by only 2')\n",
    "else:\n",
    "    print('not divisible by 5 or 2')\n"
   ]
  },
  {
   "cell_type": "code",
   "execution_count": 24,
   "id": "80c2b1ac-dfce-4f1e-b2bc-fcc8132335e5",
   "metadata": {},
   "outputs": [
    {
     "name": "stdin",
     "output_type": "stream",
     "text": [
      "enter your unit value: 350\n"
     ]
    },
    {
     "name": "stdout",
     "output_type": "stream",
     "text": [
      "amount is: 2000.0\n"
     ]
    }
   ],
   "source": [
    "amount = 0\n",
    "net_unit = float(input('enter your unit value:'))\n",
    "\n",
    "if net_unit<100:\n",
    "                 amount = 0\n",
    "                 print( 'amount is:',amount)\n",
    "elif (net_unit>100 and net_unit<=200):\n",
    "                 amount= (net_unit-100)*5\n",
    "                 print('amount is: ', amount)\n",
    "elif(net_unit>=200):\n",
    "                 amount = (net_unit-200)*10+500\n",
    "                 print('amount is:' , amount)\n",
    "                 "
   ]
  },
  {
   "cell_type": "code",
   "execution_count": null,
   "id": "2680a62f-7697-480a-9937-139c525e5845",
   "metadata": {},
   "outputs": [],
   "source": [
    "obtained_marks = float(input('enter your marks: '))\n",
    "\n",
    "if obtained_marks> 25:\n",
    "    print('You Got F!')\n",
    "elif obtained_marks<25 and obtained_marks >=44:\n",
    "    print('You Got E')\n",
    "elif obtained_marks<44 and obtained_marks>=49:\n",
    "    print('you got D')\n",
    "elif obtained_marks>49 and obtained_marks<= 59:\n",
    "    print('You Got C')\n",
    "elif obtained_marks>59 and obtained_marks<=79:\n",
    "    print('You got B')\n",
    "elif obtained_marks>79 and obtained_marks<= 89:\n",
    "    print('You got A')\n",
    "else obtained_marks>89:\n",
    "    print('You Got A+')"
   ]
  },
  {
   "cell_type": "code",
   "execution_count": null,
   "id": "15ae4909-35db-4e8d-ab1c-8a3538b3d0e4",
   "metadata": {},
   "outputs": [],
   "source": [
    "n = [2,4,5,10,14,50]\n",
    "total = 0\n",
    "for x in n :\n",
    "    total = total+ x\n",
    "    print(total, x)"
   ]
  },
  {
   "cell_type": "code",
   "execution_count": null,
   "id": "07e1ac11-50a5-454e-8c0d-cd6f29589555",
   "metadata": {},
   "outputs": [],
   "source": [
    "n = input (int('enter the value of n:'))\n",
    "fact = 1\n",
    "for i in range(1,n+1):\n",
    "    fact*= i\n",
    "    print(f'the factorial of {n} is {fact}') "
   ]
  },
  {
   "cell_type": "code",
   "execution_count": null,
   "id": "5bf1125b-7387-4198-a787-f31173018b8b",
   "metadata": {},
   "outputs": [],
   "source": [
    "n = int(input(\"Enter a number: \"))\n",
    "factorial = 1\n",
    "\n",
    "for i in range(1, n + 1):\n",
    "    factorial *= i  # same as factorial = factorial * i\n",
    "\n",
    "print(f\"The factorial of {n} is {factorial}\")"
   ]
  },
  {
   "cell_type": "code",
   "execution_count": null,
   "id": "617e9c5a-b9d2-48ec-80a8-75b222328e3b",
   "metadata": {},
   "outputs": [],
   "source": [
    "import turtle\n",
    "wn = turtle.screen()\n",
    "alex = turtle.turtle()\n",
    "alex.forward(150)\n",
    "alex.left(90)\n",
    "alex.forward(75)"
   ]
  },
  {
   "cell_type": "code",
   "execution_count": null,
   "id": "98cb24c9-991f-481a-8101-d19121f00cc5",
   "metadata": {},
   "outputs": [],
   "source": []
  },
  {
   "cell_type": "code",
   "execution_count": null,
   "id": "5c25f60d-aef5-4597-8c4d-56a472bffbe0",
   "metadata": {},
   "outputs": [],
   "source": []
  },
  {
   "cell_type": "code",
   "execution_count": null,
   "id": "783d39f0-f2a3-4c9b-a75f-e6c45e95cd91",
   "metadata": {},
   "outputs": [],
   "source": []
  }
 ],
 "metadata": {
  "kernelspec": {
   "display_name": "Python [conda env:base] *",
   "language": "python",
   "name": "conda-base-py"
  },
  "language_info": {
   "codemirror_mode": {
    "name": "ipython",
    "version": 3
   },
   "file_extension": ".py",
   "mimetype": "text/x-python",
   "name": "python",
   "nbconvert_exporter": "python",
   "pygments_lexer": "ipython3",
   "version": "3.12.7"
  }
 },
 "nbformat": 4,
 "nbformat_minor": 5
}
