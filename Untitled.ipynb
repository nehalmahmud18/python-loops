{
 "cells": [
  {
   "cell_type": "code",
   "execution_count": 2,
   "id": "b5fdc680-fc89-43a9-b80d-3f3fbb91769b",
   "metadata": {},
   "outputs": [
    {
     "ename": "AttributeError",
     "evalue": "module 'turtle' has no attribute 'screen'",
     "output_type": "error",
     "traceback": [
      "\u001b[0;31m---------------------------------------------------------------------------\u001b[0m",
      "\u001b[0;31mAttributeError\u001b[0m                            Traceback (most recent call last)",
      "Cell \u001b[0;32mIn[2], line 2\u001b[0m\n\u001b[1;32m      1\u001b[0m \u001b[38;5;28;01mimport\u001b[39;00m \u001b[38;5;21;01mturtle\u001b[39;00m\n\u001b[0;32m----> 2\u001b[0m wn \u001b[38;5;241m=\u001b[39m turtle\u001b[38;5;241m.\u001b[39mscreen()\n\u001b[1;32m      3\u001b[0m alex \u001b[38;5;241m=\u001b[39m turtle\u001b[38;5;241m.\u001b[39mturtle()\n\u001b[1;32m      4\u001b[0m alex\u001b[38;5;241m.\u001b[39mforward(\u001b[38;5;241m150\u001b[39m)\n",
      "\u001b[0;31mAttributeError\u001b[0m: module 'turtle' has no attribute 'screen'"
     ]
    }
   ],
   "source": [
    "import turtle\n",
    "wn = turtle.screen()\n",
    "alex = turtle.turtle()\n",
    "alex.forward(150)\n",
    "alex.left(90)\n",
    "alex.forward(75)"
   ]
  },
  {
   "cell_type": "code",
   "execution_count": null,
   "id": "8ce87fa9-74e2-4a93-860e-33f9790da6bc",
   "metadata": {},
   "outputs": [],
   "source": []
  }
 ],
 "metadata": {
  "kernelspec": {
   "display_name": "Python [conda env:base] *",
   "language": "python",
   "name": "conda-base-py"
  },
  "language_info": {
   "codemirror_mode": {
    "name": "ipython",
    "version": 3
   },
   "file_extension": ".py",
   "mimetype": "text/x-python",
   "name": "python",
   "nbconvert_exporter": "python",
   "pygments_lexer": "ipython3",
   "version": "3.12.7"
  }
 },
 "nbformat": 4,
 "nbformat_minor": 5
}
